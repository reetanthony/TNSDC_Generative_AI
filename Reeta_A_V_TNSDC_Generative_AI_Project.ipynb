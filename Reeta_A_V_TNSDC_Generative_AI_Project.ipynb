{
  "cells": [
    {
      "cell_type": "markdown",
      "metadata": {
        "id": "G_f8uKQyzi4R"
      },
      "source": [
        "SENTENCE AUTOCOMPLETION USING LSTM MODEL"
      ]
    },
    {
      "cell_type": "markdown",
      "metadata": {
        "id": "udSgSbykPXyn"
      },
      "source": [
        "Importing the required libraries\n"
      ]
    },
    {
      "cell_type": "code",
      "execution_count": 1,
      "metadata": {
        "id": "inUuWSpSPYPm"
      },
      "outputs": [],
      "source": [
        "import re\n",
        "import numpy as np\n",
        "import pandas as pd\n",
        "import numpy as np\n",
        "import matplotlib.pyplot as plt\n",
        "\n",
        "import tensorflow as tf\n",
        "from tensorflow.keras.preprocessing.text import Tokenizer\n",
        "from tensorflow.keras.preprocessing.sequence import pad_sequences\n",
        "from tensorflow.keras.layers import Embedding, LSTM, Dense, Dropout\n",
        "from tensorflow.keras.models import Sequential\n",
        "from tensorflow.keras.optimizers import Adam\n",
        "from tensorflow.keras.utils import to_categorical\n",
        "import pickle\n",
        "import warnings\n",
        "warnings.filterwarnings('ignore')\n"
      ]
    },
    {
      "cell_type": "markdown",
      "metadata": {
        "id": "6m5eHwgPJJYo"
      },
      "source": [
        "Loading the dataset"
      ]
    },
    {
      "cell_type": "code",
      "execution_count": 2,
      "metadata": {
        "colab": {
          "base_uri": "https://localhost:8080/",
          "height": 73
        },
        "id": "rL6RgrzGJKNP",
        "outputId": "cfe3a9c5-91ff-478d-c6c3-df682da7da38"
      },
      "outputs": [
        {
          "output_type": "display_data",
          "data": {
            "text/plain": [
              "<IPython.core.display.HTML object>"
            ],
            "text/html": [
              "\n",
              "     <input type=\"file\" id=\"files-75c9d508-a47d-4e44-b449-865d51484c8a\" name=\"files[]\" multiple disabled\n",
              "        style=\"border:none\" />\n",
              "     <output id=\"result-75c9d508-a47d-4e44-b449-865d51484c8a\">\n",
              "      Upload widget is only available when the cell has been executed in the\n",
              "      current browser session. Please rerun this cell to enable.\n",
              "      </output>\n",
              "      <script>// Copyright 2017 Google LLC\n",
              "//\n",
              "// Licensed under the Apache License, Version 2.0 (the \"License\");\n",
              "// you may not use this file except in compliance with the License.\n",
              "// You may obtain a copy of the License at\n",
              "//\n",
              "//      http://www.apache.org/licenses/LICENSE-2.0\n",
              "//\n",
              "// Unless required by applicable law or agreed to in writing, software\n",
              "// distributed under the License is distributed on an \"AS IS\" BASIS,\n",
              "// WITHOUT WARRANTIES OR CONDITIONS OF ANY KIND, either express or implied.\n",
              "// See the License for the specific language governing permissions and\n",
              "// limitations under the License.\n",
              "\n",
              "/**\n",
              " * @fileoverview Helpers for google.colab Python module.\n",
              " */\n",
              "(function(scope) {\n",
              "function span(text, styleAttributes = {}) {\n",
              "  const element = document.createElement('span');\n",
              "  element.textContent = text;\n",
              "  for (const key of Object.keys(styleAttributes)) {\n",
              "    element.style[key] = styleAttributes[key];\n",
              "  }\n",
              "  return element;\n",
              "}\n",
              "\n",
              "// Max number of bytes which will be uploaded at a time.\n",
              "const MAX_PAYLOAD_SIZE = 100 * 1024;\n",
              "\n",
              "function _uploadFiles(inputId, outputId) {\n",
              "  const steps = uploadFilesStep(inputId, outputId);\n",
              "  const outputElement = document.getElementById(outputId);\n",
              "  // Cache steps on the outputElement to make it available for the next call\n",
              "  // to uploadFilesContinue from Python.\n",
              "  outputElement.steps = steps;\n",
              "\n",
              "  return _uploadFilesContinue(outputId);\n",
              "}\n",
              "\n",
              "// This is roughly an async generator (not supported in the browser yet),\n",
              "// where there are multiple asynchronous steps and the Python side is going\n",
              "// to poll for completion of each step.\n",
              "// This uses a Promise to block the python side on completion of each step,\n",
              "// then passes the result of the previous step as the input to the next step.\n",
              "function _uploadFilesContinue(outputId) {\n",
              "  const outputElement = document.getElementById(outputId);\n",
              "  const steps = outputElement.steps;\n",
              "\n",
              "  const next = steps.next(outputElement.lastPromiseValue);\n",
              "  return Promise.resolve(next.value.promise).then((value) => {\n",
              "    // Cache the last promise value to make it available to the next\n",
              "    // step of the generator.\n",
              "    outputElement.lastPromiseValue = value;\n",
              "    return next.value.response;\n",
              "  });\n",
              "}\n",
              "\n",
              "/**\n",
              " * Generator function which is called between each async step of the upload\n",
              " * process.\n",
              " * @param {string} inputId Element ID of the input file picker element.\n",
              " * @param {string} outputId Element ID of the output display.\n",
              " * @return {!Iterable<!Object>} Iterable of next steps.\n",
              " */\n",
              "function* uploadFilesStep(inputId, outputId) {\n",
              "  const inputElement = document.getElementById(inputId);\n",
              "  inputElement.disabled = false;\n",
              "\n",
              "  const outputElement = document.getElementById(outputId);\n",
              "  outputElement.innerHTML = '';\n",
              "\n",
              "  const pickedPromise = new Promise((resolve) => {\n",
              "    inputElement.addEventListener('change', (e) => {\n",
              "      resolve(e.target.files);\n",
              "    });\n",
              "  });\n",
              "\n",
              "  const cancel = document.createElement('button');\n",
              "  inputElement.parentElement.appendChild(cancel);\n",
              "  cancel.textContent = 'Cancel upload';\n",
              "  const cancelPromise = new Promise((resolve) => {\n",
              "    cancel.onclick = () => {\n",
              "      resolve(null);\n",
              "    };\n",
              "  });\n",
              "\n",
              "  // Wait for the user to pick the files.\n",
              "  const files = yield {\n",
              "    promise: Promise.race([pickedPromise, cancelPromise]),\n",
              "    response: {\n",
              "      action: 'starting',\n",
              "    }\n",
              "  };\n",
              "\n",
              "  cancel.remove();\n",
              "\n",
              "  // Disable the input element since further picks are not allowed.\n",
              "  inputElement.disabled = true;\n",
              "\n",
              "  if (!files) {\n",
              "    return {\n",
              "      response: {\n",
              "        action: 'complete',\n",
              "      }\n",
              "    };\n",
              "  }\n",
              "\n",
              "  for (const file of files) {\n",
              "    const li = document.createElement('li');\n",
              "    li.append(span(file.name, {fontWeight: 'bold'}));\n",
              "    li.append(span(\n",
              "        `(${file.type || 'n/a'}) - ${file.size} bytes, ` +\n",
              "        `last modified: ${\n",
              "            file.lastModifiedDate ? file.lastModifiedDate.toLocaleDateString() :\n",
              "                                    'n/a'} - `));\n",
              "    const percent = span('0% done');\n",
              "    li.appendChild(percent);\n",
              "\n",
              "    outputElement.appendChild(li);\n",
              "\n",
              "    const fileDataPromise = new Promise((resolve) => {\n",
              "      const reader = new FileReader();\n",
              "      reader.onload = (e) => {\n",
              "        resolve(e.target.result);\n",
              "      };\n",
              "      reader.readAsArrayBuffer(file);\n",
              "    });\n",
              "    // Wait for the data to be ready.\n",
              "    let fileData = yield {\n",
              "      promise: fileDataPromise,\n",
              "      response: {\n",
              "        action: 'continue',\n",
              "      }\n",
              "    };\n",
              "\n",
              "    // Use a chunked sending to avoid message size limits. See b/62115660.\n",
              "    let position = 0;\n",
              "    do {\n",
              "      const length = Math.min(fileData.byteLength - position, MAX_PAYLOAD_SIZE);\n",
              "      const chunk = new Uint8Array(fileData, position, length);\n",
              "      position += length;\n",
              "\n",
              "      const base64 = btoa(String.fromCharCode.apply(null, chunk));\n",
              "      yield {\n",
              "        response: {\n",
              "          action: 'append',\n",
              "          file: file.name,\n",
              "          data: base64,\n",
              "        },\n",
              "      };\n",
              "\n",
              "      let percentDone = fileData.byteLength === 0 ?\n",
              "          100 :\n",
              "          Math.round((position / fileData.byteLength) * 100);\n",
              "      percent.textContent = `${percentDone}% done`;\n",
              "\n",
              "    } while (position < fileData.byteLength);\n",
              "  }\n",
              "\n",
              "  // All done.\n",
              "  yield {\n",
              "    response: {\n",
              "      action: 'complete',\n",
              "    }\n",
              "  };\n",
              "}\n",
              "\n",
              "scope.google = scope.google || {};\n",
              "scope.google.colab = scope.google.colab || {};\n",
              "scope.google.colab._files = {\n",
              "  _uploadFiles,\n",
              "  _uploadFilesContinue,\n",
              "};\n",
              "})(self);\n",
              "</script> "
            ]
          },
          "metadata": {}
        },
        {
          "output_type": "stream",
          "name": "stdout",
          "text": [
            "Saving Shakespeare_data.csv to Shakespeare_data.csv\n"
          ]
        }
      ],
      "source": [
        "from google.colab import files\n",
        "uploaded = files.upload()"
      ]
    },
    {
      "cell_type": "code",
      "execution_count": null,
      "metadata": {
        "colab": {
          "base_uri": "https://localhost:8080/"
        },
        "id": "Hxvl4weuVgsY",
        "outputId": "f7ca3e82-8855-491c-a055-a739752aade8"
      },
      "outputs": [
        {
          "output_type": "stream",
          "name": "stdout",
          "text": [
            "   Dataline      Play  PlayerLinenumber ActSceneLine         Player  \\\n",
            "0         1  Henry IV               NaN          NaN            NaN   \n",
            "1         2  Henry IV               NaN          NaN            NaN   \n",
            "2         3  Henry IV               NaN          NaN            NaN   \n",
            "3         4  Henry IV               1.0        1.1.1  KING HENRY IV   \n",
            "4         5  Henry IV               1.0        1.1.2  KING HENRY IV   \n",
            "\n",
            "                                          PlayerLine  \n",
            "0                                              ACT I  \n",
            "1                       SCENE I. London. The palace.  \n",
            "2  Enter KING HENRY, LORD JOHN OF LANCASTER, the ...  \n",
            "3             So shaken as we are, so wan with care,  \n",
            "4         Find we a time for frighted peace to pant,  \n"
          ]
        }
      ],
      "source": [
        "data = pd.read_csv('Shakespeare_data.csv')\n",
        "print(data.head())"
      ]
    },
    {
      "cell_type": "markdown",
      "metadata": {
        "id": "KOWyejeJVWRn"
      },
      "source": [
        "Extracting Text from data"
      ]
    },
    {
      "cell_type": "code",
      "execution_count": null,
      "metadata": {
        "colab": {
          "base_uri": "https://localhost:8080/"
        },
        "id": "IFIVmFW9V-r3",
        "outputId": "7e90453f-d3fe-4d90-bd8c-2ef79aa164c3"
      },
      "outputs": [
        {
          "output_type": "execute_result",
          "data": {
            "text/plain": [
              "['ACT I',\n",
              " 'SCENE I. London. The palace.',\n",
              " 'Enter KING HENRY, LORD JOHN OF LANCASTER, the EARL of WESTMORELAND, SIR WALTER BLUNT, and others',\n",
              " 'So shaken as we are, so wan with care,',\n",
              " 'Find we a time for frighted peace to pant,']"
            ]
          },
          "metadata": {},
          "execution_count": 4
        }
      ],
      "source": [
        "# getting text from the data\n",
        "text = []\n",
        "for i in data['PlayerLine']:\n",
        "\ttext.append(i)\n",
        "\n",
        "# lets see how the text is looking\n",
        "text[:5]\n"
      ]
    },
    {
      "cell_type": "markdown",
      "metadata": {
        "id": "NktPpYmxVVcw"
      },
      "source": [
        "Cleaning the text"
      ]
    },
    {
      "cell_type": "code",
      "execution_count": null,
      "metadata": {
        "colab": {
          "base_uri": "https://localhost:8080/"
        },
        "id": "rr2sBL9tVVuv",
        "outputId": "ba06051c-e09b-4aa5-9aa7-f854ca132243"
      },
      "outputs": [
        {
          "output_type": "execute_result",
          "data": {
            "text/plain": [
              "['act i',\n",
              " 'scene i london the palace',\n",
              " 'enter king henry lord john of lancaster the earl of westmoreland sir walter blunt and others',\n",
              " 'so shaken as we are so wan with care',\n",
              " 'find we a time for frighted peace to pant']"
            ]
          },
          "metadata": {},
          "execution_count": 5
        }
      ],
      "source": [
        "# Text Cleaning\n",
        "def clean_text(text):\n",
        "\t# removing special characters like @, #, $, etc\n",
        "\tpattern = re.compile('[^a-zA-z0-9\\s]')\n",
        "\ttext = re.sub(pattern,'',text)\n",
        "\n",
        "\t# removing digits\n",
        "\tpattern = re.compile('\\d+')\n",
        "\ttext = re.sub(pattern,'',text)\n",
        "\n",
        "\t# converting text to lower case\n",
        "\ttext = text.lower()\n",
        "\treturn text\n",
        "\n",
        "texts = []\n",
        "for t in text:\n",
        "\tnew_text = clean_text(t)\n",
        "\ttexts.append(new_text)\n",
        "\n",
        "# cleaned text\n",
        "texts[:5]\n"
      ]
    },
    {
      "cell_type": "markdown",
      "metadata": {
        "id": "R1ayBTIoWSJW"
      },
      "source": [
        "Text vectorization and One hot encoding"
      ]
    },
    {
      "cell_type": "code",
      "execution_count": null,
      "metadata": {
        "colab": {
          "base_uri": "https://localhost:8080/"
        },
        "id": "4C3RO1BZWSUO",
        "outputId": "6705dc23-fc91-4c86-b639-d40992109af2"
      },
      "outputs": [
        {
          "output_type": "stream",
          "name": "stdout",
          "text": [
            "Text -->> act i\n",
            "Embedding -->> [455, 4]\n",
            "Maximum Sequence Length -->> 54\n",
            "Text Sequence -->>\n",
            " [  0   0   0   0   0   0   0   0   0   0   0   0   0   0   0   0   0   0\n",
            "   0   0   0   0   0   0   0   0   0   0   0   0   0   0   0   0   0   0\n",
            "   0   0   0   0   0   0   0   0   0   0   0   0   0   0   0   0 455   4]\n",
            "Text Sequence Shape -->> (10000, 54)\n"
          ]
        }
      ],
      "source": [
        "# lets take first 10000 words for the model training\n",
        "texts = texts[:10000]\n",
        "\n",
        "# using tensorflow tokenizer and\n",
        "tokenizer = Tokenizer()\n",
        "tokenizer.fit_on_texts(texts)\n",
        "\n",
        "# generating text sequences, i.e. encoding the text\n",
        "text_sequences = np.array(tokenizer.texts_to_sequences(texts))\n",
        "print('Text -->>',texts[0])\n",
        "print('Embedding -->>',text_sequences[0])\n",
        "\n",
        "# padding the sequences\n",
        "Max_Sequence_Len = max([len(x) for x in text_sequences])\n",
        "text_sequences = pad_sequences(text_sequences,\n",
        "\t\t\t\t\t\t\tmaxlen = Max_Sequence_Len, padding='pre')\n",
        "\n",
        "print('Maximum Sequence Length -->>',Max_Sequence_Len)\n",
        "print('Text Sequence -->>\\n',text_sequences[0])\n",
        "print('Text Sequence Shape -->>',text_sequences.shape)\n"
      ]
    },
    {
      "cell_type": "markdown",
      "metadata": {
        "id": "Ka3-_APwWav-"
      },
      "source": [
        "Splitting the dataset and One hot encoding:"
      ]
    },
    {
      "cell_type": "code",
      "execution_count": null,
      "metadata": {
        "colab": {
          "base_uri": "https://localhost:8080/"
        },
        "id": "s6gQ2h3NWa9e",
        "outputId": "850e508e-a0b6-48c1-b1c4-362531feb110"
      },
      "outputs": [
        {
          "output_type": "stream",
          "name": "stdout",
          "text": [
            "First Input : [  0   0   0   0   0   0   0   0   0   0   0   0   0   0   0   0   0   0\n",
            "   0   0   0   0   0   0   0   0   0   0   0   0   0   0   0   0   0   0\n",
            "   0   0   0   0   0   0   0   0   0   0   0   0   0   0   0   0 455]\n",
            "First Target : 4\n",
            "Total Number of Words: 7865\n",
            "Input Shape : (10000, 53)\n",
            "Target Shape : (10000, 7865)\n"
          ]
        }
      ],
      "source": [
        "# getting X and y from the data\n",
        "X, y = text_sequences[:, :-1], text_sequences[:,-1]\n",
        "print('First Input :',X[0])\n",
        "print('First Target :',y[0])\n",
        "\n",
        "word_index = tokenizer.word_index\n",
        "\n",
        "# using one hot encoding on y\n",
        "total_words = len(word_index) + 1\n",
        "print('Total Number of Words:',total_words)\n",
        "\n",
        "y = to_categorical(y, num_classes=total_words)\n",
        "\n",
        "# printing X and y shapes\n",
        "print('Input Shape :',X.shape)\n",
        "print('Target Shape :',y.shape)\n"
      ]
    },
    {
      "cell_type": "markdown",
      "metadata": {
        "id": "G8qPvwkiWi4n"
      },
      "source": [
        "Building the model"
      ]
    },
    {
      "cell_type": "code",
      "execution_count": null,
      "metadata": {
        "colab": {
          "base_uri": "https://localhost:8080/"
        },
        "id": "VQz8bwvgWjBP",
        "outputId": "87baca4d-275c-4aef-a30e-a074f91b45af"
      },
      "outputs": [
        {
          "output_type": "stream",
          "name": "stdout",
          "text": [
            "Model: \"LSTM_Model\"\n",
            "_________________________________________________________________\n",
            " Layer (type)                Output Shape              Param #   \n",
            "=================================================================\n",
            " embedding (Embedding)       (None, 53, 53)            416845    \n",
            "                                                                 \n",
            " lstm (LSTM)                 (None, 512)               1159168   \n",
            "                                                                 \n",
            " dropout (Dropout)           (None, 512)               0         \n",
            "                                                                 \n",
            " dense (Dense)               (None, 7865)              4034745   \n",
            "                                                                 \n",
            "=================================================================\n",
            "Total params: 5610758 (21.40 MB)\n",
            "Trainable params: 5610758 (21.40 MB)\n",
            "Non-trainable params: 0 (0.00 Byte)\n",
            "_________________________________________________________________\n",
            "None\n"
          ]
        }
      ],
      "source": [
        "model = Sequential(name=\"LSTM_Model\")\n",
        "\n",
        "# adding embedding layer\n",
        "model.add(Embedding(total_words,\n",
        "\t\t\t\t\tMax_Sequence_Len-1,\n",
        "\t\t\t\t\tinput_length=Max_Sequence_Len-1))\n",
        "\n",
        "# adding a LSTM layer\n",
        "model.add(LSTM(512, return_sequences=False))\n",
        "model.add(Dropout(0.5))\n",
        "\n",
        "#adding the final output activation with activation function of softmax\n",
        "model.add(Dense(total_words, activation='softmax'))\n",
        "\n",
        "# printing model summary\n",
        "print(model.summary())\n"
      ]
    },
    {
      "cell_type": "markdown",
      "metadata": {
        "id": "NTE4UsoQWqaP"
      },
      "source": [
        "Compiling and Training the Model"
      ]
    },
    {
      "cell_type": "code",
      "execution_count": null,
      "metadata": {
        "colab": {
          "base_uri": "https://localhost:8080/"
        },
        "id": "6a20phc-Wqmv",
        "outputId": "e9e7450c-20d3-4ac4-9197-8cd977db8bb6"
      },
      "outputs": [
        {
          "output_type": "stream",
          "name": "stdout",
          "text": [
            "Epoch 1/50\n",
            "313/313 [==============================] - 200s 630ms/step - loss: 7.9328 - accuracy: 0.0114\n",
            "Epoch 2/50\n",
            "313/313 [==============================] - 196s 627ms/step - loss: 7.3773 - accuracy: 0.0164\n",
            "Epoch 3/50\n",
            "313/313 [==============================] - 194s 620ms/step - loss: 7.1245 - accuracy: 0.0257\n",
            "Epoch 4/50\n",
            "313/313 [==============================] - 195s 624ms/step - loss: 6.8606 - accuracy: 0.0287\n",
            "Epoch 5/50\n",
            "313/313 [==============================] - 193s 616ms/step - loss: 6.5705 - accuracy: 0.0329\n",
            "Epoch 6/50\n",
            "313/313 [==============================] - 194s 618ms/step - loss: 6.2691 - accuracy: 0.0405\n",
            "Epoch 7/50\n",
            "313/313 [==============================] - 195s 623ms/step - loss: 5.9083 - accuracy: 0.0489\n",
            "Epoch 8/50\n",
            "313/313 [==============================] - 194s 621ms/step - loss: 5.4743 - accuracy: 0.0656\n",
            "Epoch 9/50\n",
            "313/313 [==============================] - 198s 633ms/step - loss: 5.0169 - accuracy: 0.0913\n",
            "Epoch 10/50\n",
            "313/313 [==============================] - 194s 619ms/step - loss: 4.5170 - accuracy: 0.1325\n",
            "Epoch 11/50\n",
            "313/313 [==============================] - 196s 627ms/step - loss: 4.0038 - accuracy: 0.1921\n",
            "Epoch 12/50\n",
            "313/313 [==============================] - 198s 632ms/step - loss: 3.4521 - accuracy: 0.2722\n",
            "Epoch 13/50\n",
            "313/313 [==============================] - 201s 643ms/step - loss: 2.9668 - accuracy: 0.3582\n",
            "Epoch 14/50\n",
            "313/313 [==============================] - 196s 627ms/step - loss: 2.4998 - accuracy: 0.4534\n",
            "Epoch 15/50\n",
            "313/313 [==============================] - 193s 618ms/step - loss: 2.1037 - accuracy: 0.5448\n",
            "Epoch 16/50\n",
            "313/313 [==============================] - 192s 612ms/step - loss: 1.7391 - accuracy: 0.6296\n",
            "Epoch 17/50\n",
            "313/313 [==============================] - 195s 624ms/step - loss: 1.4615 - accuracy: 0.6934\n",
            "Epoch 18/50\n",
            "313/313 [==============================] - 197s 631ms/step - loss: 1.2454 - accuracy: 0.7415\n",
            "Epoch 19/50\n",
            "313/313 [==============================] - 201s 643ms/step - loss: 1.0582 - accuracy: 0.7813\n",
            "Epoch 20/50\n",
            "313/313 [==============================] - 202s 644ms/step - loss: 0.8887 - accuracy: 0.8185\n",
            "Epoch 21/50\n",
            "313/313 [==============================] - 201s 641ms/step - loss: 0.7907 - accuracy: 0.8411\n",
            "Epoch 22/50\n",
            "313/313 [==============================] - 202s 646ms/step - loss: 0.6946 - accuracy: 0.8638\n",
            "Epoch 23/50\n",
            "313/313 [==============================] - 202s 644ms/step - loss: 0.6059 - accuracy: 0.8794\n",
            "Epoch 24/50\n",
            "313/313 [==============================] - 200s 639ms/step - loss: 0.5266 - accuracy: 0.8992\n",
            "Epoch 25/50\n",
            "313/313 [==============================] - 201s 641ms/step - loss: 0.4926 - accuracy: 0.9035\n",
            "Epoch 26/50\n",
            "313/313 [==============================] - 197s 630ms/step - loss: 0.4486 - accuracy: 0.9119\n",
            "Epoch 27/50\n",
            "313/313 [==============================] - 197s 631ms/step - loss: 0.4189 - accuracy: 0.9173\n",
            "Epoch 28/50\n",
            "313/313 [==============================] - 200s 637ms/step - loss: 0.3918 - accuracy: 0.9196\n",
            "Epoch 29/50\n",
            "313/313 [==============================] - 200s 637ms/step - loss: 0.3672 - accuracy: 0.9239\n",
            "Epoch 30/50\n",
            "313/313 [==============================] - 202s 646ms/step - loss: 0.3339 - accuracy: 0.9318\n",
            "Epoch 31/50\n",
            "313/313 [==============================] - 206s 657ms/step - loss: 0.3243 - accuracy: 0.9354\n",
            "Epoch 32/50\n",
            "313/313 [==============================] - 195s 623ms/step - loss: 0.3139 - accuracy: 0.9367\n",
            "Epoch 33/50\n",
            "313/313 [==============================] - 193s 618ms/step - loss: 0.3093 - accuracy: 0.9361\n",
            "Epoch 34/50\n",
            "313/313 [==============================] - 191s 609ms/step - loss: 0.2973 - accuracy: 0.9359\n",
            "Epoch 35/50\n",
            "313/313 [==============================] - 191s 609ms/step - loss: 0.2753 - accuracy: 0.9434\n",
            "Epoch 36/50\n",
            "313/313 [==============================] - 199s 637ms/step - loss: 0.2667 - accuracy: 0.9417\n",
            "Epoch 37/50\n",
            "313/313 [==============================] - 200s 641ms/step - loss: 0.2534 - accuracy: 0.9451\n",
            "Epoch 38/50\n",
            "313/313 [==============================] - 202s 645ms/step - loss: 0.2444 - accuracy: 0.9483\n",
            "Epoch 39/50\n",
            "313/313 [==============================] - 200s 638ms/step - loss: 0.2420 - accuracy: 0.9471\n",
            "Epoch 40/50\n",
            "313/313 [==============================] - 202s 645ms/step - loss: 0.2341 - accuracy: 0.9490\n",
            "Epoch 41/50\n",
            "313/313 [==============================] - 210s 670ms/step - loss: 0.2354 - accuracy: 0.9477\n",
            "Epoch 42/50\n",
            "313/313 [==============================] - 213s 681ms/step - loss: 0.2412 - accuracy: 0.9447\n",
            "Epoch 43/50\n",
            "313/313 [==============================] - 208s 663ms/step - loss: 0.2375 - accuracy: 0.9460\n",
            "Epoch 44/50\n",
            "313/313 [==============================] - 203s 649ms/step - loss: 0.2265 - accuracy: 0.9477\n",
            "Epoch 45/50\n",
            "313/313 [==============================] - 197s 629ms/step - loss: 0.2192 - accuracy: 0.9500\n",
            "Epoch 46/50\n",
            "313/313 [==============================] - 196s 627ms/step - loss: 0.2127 - accuracy: 0.9513\n",
            "Epoch 47/50\n",
            "313/313 [==============================] - 195s 622ms/step - loss: 0.2122 - accuracy: 0.9496\n",
            "Epoch 48/50\n",
            "313/313 [==============================] - 199s 635ms/step - loss: 0.2120 - accuracy: 0.9506\n",
            "Epoch 49/50\n",
            "313/313 [==============================] - 198s 632ms/step - loss: 0.2081 - accuracy: 0.9498\n",
            "Epoch 50/50\n",
            "313/313 [==============================] - 196s 627ms/step - loss: 0.1994 - accuracy: 0.9540\n"
          ]
        }
      ],
      "source": [
        "# Compiling the model\n",
        "model.compile(\n",
        "\tloss=\"categorical_crossentropy\",\n",
        "\toptimizer='adam',\n",
        "\tmetrics=['accuracy']\n",
        ")\n",
        "\n",
        "# Training the LSTM model\n",
        "history = model.fit(X, y,\n",
        "\t\t\t\t\tepochs=50,\n",
        "\t\t\t\t\tverbose=1)\n"
      ]
    },
    {
      "cell_type": "markdown",
      "metadata": {
        "id": "6sCUCUVAWx0P"
      },
      "source": [
        " Sentence Autocomplete"
      ]
    },
    {
      "cell_type": "code",
      "execution_count": null,
      "metadata": {
        "colab": {
          "base_uri": "https://localhost:8080/",
          "height": 35
        },
        "id": "gRjiM0uXWyiY",
        "outputId": "3cc5a17e-680b-4397-9f3b-e03e81364355"
      },
      "outputs": [
        {
          "output_type": "execute_result",
          "data": {
            "text/plain": [
              "'I have  drawn.'"
            ],
            "application/vnd.google.colaboratory.intrinsic+json": {
              "type": "string"
            }
          },
          "metadata": {},
          "execution_count": 15
        }
      ],
      "source": [
        "def autoCompletations(text, model):\n",
        "\t# Tokenization and Text vectorization\n",
        "\ttext_sequences = np.array(tokenizer.texts_to_sequences([texts]))\n",
        "\t# Pre-padding\n",
        "\ttesting = pad_sequences(text_sequences, maxlen = Max_Sequence_Len-1, padding='pre')\n",
        "\t# Prediction\n",
        "\ty_pred_test = np.argmax(model.predict(testing,verbose=0))\n",
        "\n",
        "\tpredicted_word = ''\n",
        "\tfor word, index in tokenizer.word_index.items():\n",
        "\t\tif index == y_pred_test:\n",
        "\t\t\tpredicted_word = word\n",
        "\t\t\tbreak\n",
        "\ttext += \" \" + predicted_word + '.'\n",
        "\treturn text\n",
        "\n",
        "complete_sentence = autoCompletations('I have ',model)\n",
        "complete_sentence\n"
      ]
    }
  ],
  "metadata": {
    "colab": {
      "provenance": []
    },
    "kernelspec": {
      "display_name": "Python 3",
      "name": "python3"
    },
    "language_info": {
      "name": "python"
    }
  },
  "nbformat": 4,
  "nbformat_minor": 0
}